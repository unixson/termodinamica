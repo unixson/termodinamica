{
 "cells": [
  {
   "cell_type": "markdown",
   "metadata": {},
   "source": [
    "## Fisicoquimica ##\n",
    "\n",
    "La fisicoquímica es la rama de la química que estudia los principios fundamentales de la química.\n",
    "Esta constituida por varias ramas: \n",
    "\n",
    "1. Termodinámica química y el equilibrio. \n",
    "2. La cinética química, \n",
    "3. la termodinámica estadística \n",
    "4. la química cuantica.\n",
    "\n",
    "En este curso estudiaremos la primera parte de la físicoquímica relativa a las *termodinámica química*. Empezaremos con el tema muy importante de las ecuaciones de estado. En este caso un **gas** se caracteriza por:\n",
    "\n",
    "- no poseer volumen definido, \n",
    "- ocupar todo el espacio disponible,\n",
    "- adopta la forma del recipiente que lo contiene.\n",
    "\n",
    "En cambio el estado **líquido** \n",
    "- tiene volumen definido, \n",
    "- pero adopta la forma del recipente que lo contiene. \n",
    "\n",
    "El estado **sólido** por otro lado forma y volumen definido. Estas definiciones son puramente macroscópicas y empíricas.\n"
   ]
  },
  {
   "cell_type": "markdown",
   "metadata": {},
   "source": [
    "El estado gaseoso es por mucho, el más fácil de estudiar y el que ha recibido el mejor tratamiento matemático. Empezaremos por una simulación de los gases ideales que se presenta a continuación."
   ]
  },
  {
   "cell_type": "code",
   "execution_count": 1,
   "metadata": {},
   "outputs": [
    {
     "data": {
      "text/html": [
       "\n",
       "        <iframe\n",
       "            width=\"800\"\n",
       "            height=\"600\"\n",
       "            src=\"https://phet.colorado.edu/sims/html/gases-intro/latest/gases-intro_es.html\"\n",
       "            frameborder=\"0\"\n",
       "            allowfullscreen\n",
       "        ></iframe>\n",
       "        "
      ],
      "text/plain": [
       "<IPython.lib.display.IFrame at 0x1ef3f5eab50>"
      ]
     },
     "execution_count": 1,
     "metadata": {},
     "output_type": "execute_result"
    }
   ],
   "source": [
    "from IPython.display import IFrame\n",
    "IFrame('https://phet.colorado.edu/sims/html/gases-intro/latest/gases-intro_es.html',800,600)\n"
   ]
  },
  {
   "cell_type": "markdown",
   "metadata": {},
   "source": [
    "Ahora vamos a tomar datos de la simulación anterior y realizar una análisis cuantitativo del comportamiento de los gases ideales. Usaremos el siguiente codigo para introducir los datos de anchura y presión."
   ]
  },
  {
   "cell_type": "code",
   "execution_count": 2,
   "metadata": {},
   "outputs": [
    {
     "name": "stdout",
     "output_type": "stream",
     "text": [
      "Dame los valores de presión, separados por comas\n",
      "16.2,10.8,13.0,18.1,23.1\n",
      "Dame los valores de volumen, separados por comas\n",
      "10.0,15.0,12.5,9.0,7.0\n",
      "\n",
      "Los valores introducidos de volumen, V=  [10.0, 15.0, 12.5, 9.0, 7.0]\n",
      "\n",
      "Los valores introducidos de presión son, P=  [16.2, 10.8, 13.0, 18.1, 23.1]\n"
     ]
    }
   ],
   "source": [
    "#\n",
    "# Para tomar los datos usamos la función input para que el usuario los introduzca, y despues los separamos \n",
    "# y los transformamos en datos numéricos con punto flotante\n",
    "P = [float(x) for x in input(\"Dame los valores de presión, separados por comas\\n\").split(',')] \n",
    "\n",
    "V = [float(y) for y in input(\"Dame los valores de volumen, separados por comas\\n\").split(',')] \n",
    "print(\"\\nLos valores introducidos de volumen, V= \", V)\n",
    "print(\"\\nLos valores introducidos de presión son, P= \", P)"
   ]
  },
  {
   "cell_type": "markdown",
   "metadata": {},
   "source": [
    "Ahora vamos a usar la libreria matplotlib para graficar la información"
   ]
  },
  {
   "cell_type": "code",
   "execution_count": 4,
   "metadata": {},
   "outputs": [
    {
     "data": {
      "image/png": "[encoded data removed]",
      "text/plain": [
       "<Figure size 432x288 with 1 Axes>"
      ]
     },
     "metadata": {
      "needs_background": "light"
     },
     "output_type": "display_data"
    }
   ],
   "source": [
    "import matplotlib.pyplot as plt\n",
    "plt.scatter(P,V)\n",
    "plt.xlabel(\"Presion/atm\")\n",
    "plt.ylabel(\"anchura/nm\")\n",
    "plt.show()"
   ]
  },
  {
   "cell_type": "markdown",
   "metadata": {},
   "source": [
    "## Modelo matemático para los datos\n",
    "\n",
    "Ahora vamos a construir un modelo matemático para extraer un comportamiento general. Usaremos una técnica llamada ajuste por minimos cuadrados. Se puede decir en palabras que la anchura, la cual es proporcional al volumen, disminuye con la presión. Se dice que el volumen es inversamente proporcional a la presión. Matemáticamente esto se escribe así\n",
    "\n",
    "$$ V \\alpha \\left(\\frac{1}{P}\\right) $$\n",
    "\n",
    "Para quitar el simbolo de proporcionalidad, $\\alpha$, introducimos una constante. Quedando la ecuación:\n",
    "\n",
    "$$  V = \\left(\\frac{K}{P}\\right)$$\n",
    "\n",
    "El valor de la constante K lo podemos obtener por un ajuste no lineal de los datos.\n"
   ]
  },
  {
   "cell_type": "markdown",
   "metadata": {},
   "source": [
    "### Codigo python para realizar el ajuste de los datos y establecer una ecuación para el comportamiento\n",
    "\n",
    "Vamos a realizar un ajuste de los datos de presion y anchura que previamente realizamos. "
   ]
  },
  {
   "cell_type": "code",
   "execution_count": 14,
   "metadata": {},
   "outputs": [
    {
     "data": {
      "text/plain": [
       "[<matplotlib.lines.Line2D at 0x1ef428f74c0>]"
      ]
     },
     "execution_count": 14,
     "metadata": {},
     "output_type": "execute_result"
    },
    {
     "data": {
      "image/png": "[encoded data removed]",
      "text/plain": [
       "<Figure size 432x288 with 1 Axes>"
      ]
     },
     "metadata": {
      "needs_background": "light"
     },
     "output_type": "display_data"
    }
   ],
   "source": [
    "#primero importamos las liberias que requerimos\n",
    "import numpy as np\n",
    "from scipy.optimize import curve_fit\n",
    "import matplotlib.pyplot as plt\n",
    "#definimos una función de ajuste de los datos\n",
    "def func(x,a):\n",
    "    return (a/x)\n",
    "#convertimos en arreglos numéricos de numpy los datos experimentales introducidos\n",
    "xdata=np.array(P)\n",
    "ydata=np.array(V)\n",
    "\n",
    "##graficamos los datos experimentales, solo para ver que todo este bien\n",
    "\n",
    "plt.plot(xdata,ydata,'bo',label='datos experimentales')"
   ]
  },
  {
   "cell_type": "code",
   "execution_count": 17,
   "metadata": {},
   "outputs": [
    {
     "name": "stdout",
     "output_type": "stream",
     "text": [
      "este es el valor de la constante K = [162.22144298]\n"
     ]
    }
   ],
   "source": [
    "#Realizamos el ajuste de la curva con la función de arriba\n",
    "param_inicial=[2.0]\n",
    "popt, pconv = curve_fit(func, xdata, ydata,param_inicial)\n",
    "print(\"este es el valor de la constante K =\", popt)"
   ]
  },
  {
   "cell_type": "code",
   "execution_count": 16,
   "metadata": {},
   "outputs": [
    {
     "data": {
      "text/plain": [
       "<function matplotlib.pyplot.show(*args, **kw)>"
      ]
     },
     "execution_count": 16,
     "metadata": {},
     "output_type": "execute_result"
    },
    {
     "data": {
      "image/png": "[encoded data removed]",
      "text/plain": [
       "<Figure size 432x288 with 1 Axes>"
      ]
     },
     "metadata": {
      "needs_background": "light"
     },
     "output_type": "display_data"
    }
   ],
   "source": [
    "#ahora creamos los datos predichos por el modelo y los graficamos con el \n",
    "xfit=np.arange(10,25,0.1)\n",
    "# aqui graficamos\n",
    "plt.plot(xfit,func(xfit,*popt), 'r')\n",
    "plt.plot(xdata,ydata,'bo',label='datos experimentales')\n",
    "plt.xlabel('presión/atm')\n",
    "plt.ylabel('anchura/nm')\n",
    "plt.show\n"
   ]
  },
  {
   "cell_type": "markdown",
   "metadata": {},
   "source": [
    "### Conclusión\n",
    "\n",
    "a temperatura constante el volumen se reduce conforme la presión aumenta siguiendo una ecuación (Ley de Boyle), para este caso específico:\n",
    "\n",
    "$$  V = \\left(\\frac{162.22144298}{P}\\right)$$\n",
    "\n"
   ]
  },
  {
   "cell_type": "code",
   "execution_count": null,
   "metadata": {},
   "outputs": [],
   "source": []
  }
 ],
 "metadata": {
  "kernelspec": {
   "display_name": "Python 3",
   "language": "python",
   "name": "python3"
  },
  "language_info": {
   "codemirror_mode": {
    "name": "ipython",
    "version": 3
   },
   "file_extension": ".py",
   "mimetype": "text/x-python",
   "name": "python",
   "nbconvert_exporter": "python",
   "pygments_lexer": "ipython3",
   "version": "3.8.3"
  }
 },
 "nbformat": 4,
 "nbformat_minor": 4
}
