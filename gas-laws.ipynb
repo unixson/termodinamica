{
 "cells": [
  {
   "cell_type": "markdown",
   "metadata": {},
   "source": [
    "# UNIDAD I. Gases y Ecuaciones de estado¶\n",
    "## Estados de la materia.\n",
    "### Estado gaseoso\n"
   ]
  },
  {
   "cell_type": "code",
   "execution_count": 1,
   "metadata": {
    "scrolled": true
   },
   "outputs": [
    {
     "data": {
      "text/html": [
       "\n",
       "        <iframe\n",
       "            width=\"600\"\n",
       "            height=\"400\"\n",
       "            src=\"https://phet.colorado.edu/sims/html/gases-intro/latest/gases-intro_es.html\"\n",
       "            frameborder=\"0\"\n",
       "            allowfullscreen\n",
       "        ></iframe>\n",
       "        "
      ],
      "text/plain": [
       "<IPython.lib.display.IFrame at 0x264b8d95358>"
      ]
     },
     "execution_count": 1,
     "metadata": {},
     "output_type": "execute_result"
    }
   ],
   "source": [
    "from IPython.display import IFrame\n",
    "IFrame('https://phet.colorado.edu/sims/html/gases-intro/latest/gases-intro_es.html',600,400)\n"
   ]
  },
  {
   "cell_type": "markdown",
   "metadata": {},
   "source": [
    "### Comportamiento a temperatura constante (isotérmico)\n",
    "\n",
    "Con los datos que puedes colectar en la simulación prepara algunas graficas para que puedas analizarlas y establecer el comportamiento de los gases. Puedes introducirlos al ejecutar la siguiente celda de codigo."
   ]
  },
  {
   "cell_type": "code",
   "execution_count": 2,
   "metadata": {},
   "outputs": [
    {
     "name": "stdout",
     "output_type": "stream",
     "text": [
      "Dame los valores de presión, separados por comas\n",
      "18.5,20.5,23.0,30.8,36.9\n",
      "\n",
      "The values of input are [18.5, 20.5, 23.0, 30.8, 36.9]\n",
      "Dame los valores de volumen, separados por comas\n",
      "10.0,9.0,8.0,6.0,5.0\n",
      "\n",
      "The values of input are [10.0, 9.0, 8.0, 6.0, 5.0]\n"
     ]
    }
   ],
   "source": [
    "\n",
    "P = [float(x) for x in input(\"Dame los valores de presión, separados por comas\\n\").split(',')] \n",
    "print(\"\\nThe values of input are\", P)\n",
    "V = [float(y) for y in input(\"Dame los valores de volumen, separados por comas\\n\").split(',')] \n",
    "print(\"\\nThe values of input are\", V)"
   ]
  },
  {
   "cell_type": "code",
   "execution_count": 4,
   "metadata": {},
   "outputs": [
    {
     "data": {
      "image/png": "[encoded data removed]",
      "text/plain": [
       "<Figure size 432x288 with 1 Axes>"
      ]
     },
     "metadata": {
      "needs_background": "light"
     },
     "output_type": "display_data"
    }
   ],
   "source": [
    "import matplotlib.pyplot as plt\n",
    "plt.plot(P,V,'-o')\n",
    "plt.xlabel('presion/atm')\n",
    "plt.ylabel('distancia/nm')\n",
    "plt.show()"
   ]
  },
  {
   "cell_type": "code",
   "execution_count": null,
   "metadata": {},
   "outputs": [],
   "source": []
  }
 ],
 "metadata": {
  "kernelspec": {
   "display_name": "Python 3",
   "language": "python",
   "name": "python3"
  },
  "language_info": {
   "codemirror_mode": {
    "name": "ipython",
    "version": 3
   },
   "file_extension": ".py",
   "mimetype": "text/x-python",
   "name": "python",
   "nbconvert_exporter": "python",
   "pygments_lexer": "ipython3",
   "version": "3.6.10"
  }
 },
 "nbformat": 4,
 "nbformat_minor": 4
}
